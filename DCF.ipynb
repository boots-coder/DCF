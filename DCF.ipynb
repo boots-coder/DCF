{
 "cells": [
  {
   "cell_type": "markdown",
   "metadata": {
    "colab_type": "text",
    "id": "view-in-github"
   },
   "source": [
    "<a href=\"https://colab.research.google.com/github/Mai-CS/Enhanced-Deep-Convolutional-Forest/blob/main/enhannced_dcf.ipynb\" target=\"_parent\"><img src=\"https://colab.research.google.com/assets/colab-badge.svg\" alt=\"Open In Colab\"/></a>"
   ]
  },
  {
   "cell_type": "markdown",
   "metadata": {
    "id": "0nycuFIHjbsN"
   },
   "source": [
    "# ***Imports***"
   ]
  },
  {
   "cell_type": "code",
   "execution_count": 82,
   "metadata": {
    "ExecuteTime": {
     "end_time": "2024-07-20T03:39:41.460335Z",
     "start_time": "2024-07-20T03:39:41.451048Z"
    },
    "colab": {
     "base_uri": "https://localhost:8080/"
    },
    "id": "1MwNY-fmgoG1",
    "outputId": "3a84023c-259a-4b9d-c76d-b101cd1b25c3"
   },
   "outputs": [],
   "source": [
    "# from google.colab import drive\n",
    "# drive.mount('/content/drive')\n",
    "\n",
    "import time\n",
    "\n",
    "import numpy as np\n",
    "import pandas as pd\n",
    "import seaborn as sns\n",
    "import matplotlib.pyplot as plt\n",
    "%matplotlib inline\n",
    "from sklearn.model_selection import train_test_split\n",
    "from sklearn.utils import class_weight\n",
    "from sklearn.preprocessing import StandardScaler\n",
    "from sklearn.ensemble import RandomForestClassifier, ExtraTreesClassifier\n",
    "from sklearn.svm import SVC\n",
    "from sklearn.naive_bayes import GaussianNB\n",
    "from sklearn.neighbors import KNeighborsClassifier\n",
    "from sklearn import metrics\n",
    "\n",
    "from sklearn.feature_extraction.text import TfidfVectorizer\n",
    "from imblearn.over_sampling import SMOTE\n",
    "from collections import Counter\n",
    "import tensorflow as tf\n",
    "# from tensorflow.keras import Model\n",
    "# from tensorflow.keras.preprocessing.text import Tokenizer\n",
    "# from tensorflow.keras.preprocessing.text import text_to_word_sequence\n",
    "# from tensorflow.keras.preprocessing.sequence import pad_sequences\n",
    "# from tensorflow.keras.models import Sequential\n",
    "# from tensorflow.keras.layers import Embedding, Conv1D, LSTM, GlobalMaxPooling1D, Dense\n",
    "\n",
    "import tensorflow as tf\n",
    "from tensorflow.keras.models import Model, Sequential\n",
    "from tensorflow.keras.preprocessing.text import Tokenizer, text_to_word_sequence\n",
    "from tensorflow.keras.preprocessing.sequence import pad_sequences\n",
    "from tensorflow.keras.layers import Embedding, Conv1D, LSTM, GlobalMaxPooling1D, Dense"
   ]
  },
  {
   "cell_type": "markdown",
   "metadata": {
    "id": "WOcDr84WjrTJ"
   },
   "source": [
    "# ***Utils***"
   ]
  },
  {
   "cell_type": "markdown",
   "metadata": {
    "id": "UKtyF4YY0oRs"
   },
   "source": [
    "## Dataset loading"
   ]
  },
  {
   "cell_type": "code",
   "execution_count": 86,
   "metadata": {
    "ExecuteTime": {
     "end_time": "2024-07-20T03:39:47.126355Z",
     "start_time": "2024-07-20T03:39:47.123109Z"
    },
    "id": "m9l0ACDA0j0b"
   },
   "outputs": [],
   "source": [
    "def load_data(file_name):\n",
    "    df = pd.read_csv(\n",
    "        \"/Users/bootscoder/Documents/岳老师-科研/paper1/paper1/Deep-Convolutional-Forest-main/\" + file_name, encoding=\"ISO-8859-1\"\n",
    "    )\n",
    "    df = df.dropna(subset=[\"ProcessedMessage\"], axis=0)\n",
    "    #   df = df.drop_duplicates(subset=['ProcessedMessage'])\n",
    "    df.info()\n",
    "\n",
    "    return df.reset_index(drop=True)"
   ]
  },
  {
   "cell_type": "markdown",
   "metadata": {
    "id": "hhSlYOAP0uKQ"
   },
   "source": [
    "## Get maximum input length"
   ]
  },
  {
   "cell_type": "code",
   "execution_count": 89,
   "metadata": {
    "ExecuteTime": {
     "end_time": "2024-07-20T03:39:48.465835Z",
     "start_time": "2024-07-20T03:39:48.463971Z"
    },
    "id": "i-KQfN5A01c0"
   },
   "outputs": [],
   "source": [
    "def get_max_input_length(docs):\n",
    "    max_input_length = 1\n",
    "    for document in docs:\n",
    "        words = text_to_word_sequence(document)\n",
    "        document_length = len(words)\n",
    "        if document_length > max_input_length:\n",
    "            max_input_length = document_length\n",
    "\n",
    "    return max_input_length"
   ]
  },
  {
   "cell_type": "markdown",
   "metadata": {
    "id": "_LxYErsZ05Kz"
   },
   "source": [
    "## Balance data"
   ]
  },
  {
   "cell_type": "code",
   "execution_count": 92,
   "metadata": {
    "ExecuteTime": {
     "end_time": "2024-07-20T03:39:49.690Z",
     "start_time": "2024-07-20T03:39:49.687498Z"
    },
    "id": "Zu11UDPA07ZP"
   },
   "outputs": [],
   "source": [
    "def balance_data(X_train, y_train, input_type=\"numerical\"):\n",
    "    \"\"\"Oversampling the dataset using SMOTE\"\"\"\n",
    "\n",
    "    # Summarize class distribution\n",
    "    counter = Counter(y_train)\n",
    "    print(\"Before SMOTE: \", counter)\n",
    "\n",
    "    if input_type == \"text\":\n",
    "        # Calculate TF-IDF\n",
    "        vectorizer = TfidfVectorizer()\n",
    "        X_train = vectorizer.fit_transform(X_train)\n",
    "\n",
    "    # Oversampling\n",
    "    smote_model = SMOTE()\n",
    "    X_train, y_train = smote_model.fit_resample(X_train, y_train)\n",
    "\n",
    "    # Summarize the new class distribution\n",
    "    counter = Counter(y_train)\n",
    "    print(\"After SMOTE: \", counter)\n",
    "\n",
    "    if input_type == \"text\":\n",
    "        X_train = vectorizer.inverse_transform(X_train)\n",
    "        for i in range(0, len(X_train)):\n",
    "            X_train[i] = \" \".join(reversed(X_train[i]))\n",
    "\n",
    "    return X_train, y_train"
   ]
  },
  {
   "cell_type": "markdown",
   "metadata": {
    "id": "mnQqjIIxQl5M"
   },
   "source": [
    "## GloVe"
   ]
  },
  {
   "cell_type": "code",
   "execution_count": 95,
   "metadata": {
    "ExecuteTime": {
     "end_time": "2024-07-20T03:39:51.250363Z",
     "start_time": "2024-07-20T03:39:51.248801Z"
    },
    "id": "8E9B6yNoTokI"
   },
   "outputs": [],
   "source": [
    "# !wget http://nlp.stanford.edu/data/glove.6B.zip\n",
    "# !unzip -q glove.6B.zip"
   ]
  },
  {
   "cell_type": "code",
   "execution_count": 97,
   "metadata": {
    "ExecuteTime": {
     "end_time": "2024-07-20T03:39:52.569121Z",
     "start_time": "2024-07-20T03:39:52.565659Z"
    },
    "id": "DpO3aHI_Qnx_"
   },
   "outputs": [],
   "source": [
    "def create_embedding_matrix(tokenizer, embedding_dim):\n",
    "    file_name = \"\"\n",
    "    embeddings_index = {}\n",
    "    if embedding_dim == 50:\n",
    "        file_name = \"glove.6B.50d.txt\"\n",
    "    elif embedding_dim == 100:\n",
    "        file_name = \"glove.6B.100d.txt\"\n",
    "\n",
    "    f = open(\"/Users/bootscoder/Documents/岳老师-科研/paper1/paper1/Deep-Convolutional-Forest-main/\" + file_name)\n",
    "    for line in f:\n",
    "        values = line.split()\n",
    "        word = values[0]\n",
    "        coefs = np.asarray(values[1:], dtype=\"float32\")\n",
    "        embeddings_index[word] = coefs\n",
    "    f.close()\n",
    "\n",
    "    print(\"Found %s word vectors.\" % len(embeddings_index))\n",
    "\n",
    "    embedding_matrix = np.zeros((len(tokenizer.word_index) + 1, embedding_dim))\n",
    "    for word, i in tokenizer.word_index.items():\n",
    "        embedding_vector = embeddings_index.get(word)\n",
    "        if embedding_vector is not None:\n",
    "            # words not found in embedding index will be all-zeros.\n",
    "            embedding_matrix[i] = embedding_vector\n",
    "\n",
    "    return embedding_matrix"
   ]
  },
  {
   "cell_type": "markdown",
   "metadata": {
    "id": "VmjwpXPDEH5V"
   },
   "source": [
    "## Text encoding/padding"
   ]
  },
  {
   "cell_type": "code",
   "execution_count": 100,
   "metadata": {
    "ExecuteTime": {
     "end_time": "2024-07-20T03:39:55.699348Z",
     "start_time": "2024-07-20T03:39:55.696147Z"
    },
    "id": "ziNZvRf5EL69"
   },
   "outputs": [],
   "source": [
    "def encode_text(docs_X_train, docs_X_test):\n",
    "    # Prepare tokenizer\n",
    "    tokenizer = Tokenizer()\n",
    "    tokenizer.fit_on_texts(docs_X_train)\n",
    "\n",
    "    # Integer encode the documents\n",
    "    encoded_docs_train = tokenizer.texts_to_sequences(docs_X_train)\n",
    "    encoded_docs_test = tokenizer.texts_to_sequences(docs_X_test)\n",
    "\n",
    "    # Pad documents to a max length of words\n",
    "    padded_docs_train = pad_sequences(\n",
    "        encoded_docs_train,\n",
    "        maxlen=max_sequence_length,\n",
    "        padding=\"post\",\n",
    "        truncating=\"post\",\n",
    "    )\n",
    "    padded_docs_test = pad_sequences(\n",
    "        encoded_docs_test, maxlen=max_sequence_length, padding=\"post\", truncating=\"post\"\n",
    "    )\n",
    "\n",
    "    return padded_docs_train, padded_docs_test, tokenizer"
   ]
  },
  {
   "cell_type": "markdown",
   "metadata": {
    "id": "4k62-DLpCjpa"
   },
   "source": [
    "# ***DCF***"
   ]
  },
  {
   "cell_type": "markdown",
   "metadata": {
    "id": "ydnexQZdTGQa"
   },
   "source": [
    "## Building DCF"
   ]
  },
  {
   "cell_type": "code",
   "execution_count": 298,
   "metadata": {
    "ExecuteTime": {
     "end_time": "2024-07-20T03:41:45.894668Z",
     "start_time": "2024-07-20T03:41:45.880887Z"
    },
    "id": "Mlm0MPEpD21C"
   },
   "outputs": [],
   "source": [
    "import time\n",
    "import numpy as np\n",
    "from keras.models import Model\n",
    "from keras.layers import Conv1D, GlobalMaxPooling1D, Dense, Embedding, Input\n",
    "from sklearn import metrics\n",
    "\n",
    "# Assuming balance_data, DCF_classify, evaluate_model, and roc functions are defined elsewhere\n",
    "\n",
    "def DCF_model(\n",
    "    X_train,\n",
    "    X_test,\n",
    "    y_train,\n",
    "    y_test,\n",
    "    params,\n",
    "    class_weights,\n",
    "    vocab_size,\n",
    "    max_sequence_length,\n",
    "    embedding_matrix,\n",
    "    embedding_dim,\n",
    "):\n",
    "    \"\"\"Build DCF layers (auto-complexity)\"\"\"\n",
    "\n",
    "    # Extract hyperparameters from the params dictionary\n",
    "    filters = params[\"filters\"]\n",
    "    kernel_size = params[\"kernel_size\"]\n",
    "    epochs = params[\"epochs\"]\n",
    "\n",
    "    # Start timer to calculate execution time\n",
    "    start_time = time.time()\n",
    "\n",
    "    max_num_iterations = 10  # Set the maximum number of iterations for the loop\n",
    "    count = 0  # Initialize a counter to track early stopping criteria\n",
    "    best_accuracy = 0\n",
    "    best_level = 0\n",
    "    best_pred = None\n",
    "    best_proba = None\n",
    "\n",
    "    # Initial embedding layer\n",
    "    embedding_layer = Embedding(\n",
    "        vocab_size,\n",
    "        embedding_dim,\n",
    "        input_length=max_sequence_length,\n",
    "        weights=[embedding_matrix],\n",
    "        trainable=True,\n",
    "        mask_zero=True,\n",
    "    )\n",
    "\n",
    "    for i in range(1, max_num_iterations + 1):\n",
    "        pooling_layer_name = \"pool_layer\" + str(i)  # Naming pooling layers dynamically\n",
    "\n",
    "        if i == 1:\n",
    "            input_layer = Input(shape=(max_sequence_length,))\n",
    "            x = embedding_layer(input_layer)\n",
    "        else:\n",
    "            input_layer = Input(shape=(X_train.shape[1], 1))\n",
    "            x = input_layer\n",
    "\n",
    "        # Add convolutional layer\n",
    "        x = Conv1D(filters=filters, kernel_size=kernel_size, activation=\"relu\")(x)\n",
    "        # Add global max pooling layer\n",
    "        x = GlobalMaxPooling1D(name=pooling_layer_name)(x)\n",
    "        # Add dense output layer\n",
    "        output_layer = Dense(2, activation=\"softmax\")(x)\n",
    "\n",
    "        # Create the model\n",
    "        model = Model(inputs=input_layer, outputs=output_layer)\n",
    "\n",
    "        # Compile the model\n",
    "        model.compile(\n",
    "            loss=\"sparse_categorical_crossentropy\",\n",
    "            optimizer=\"adam\",\n",
    "            metrics=[\"accuracy\"],\n",
    "        )\n",
    "        \n",
    "        # Reshape training and test data for Conv1D after the first iteration\n",
    "        if i > 1:\n",
    "            X_train = X_train.reshape(X_train.shape[0], X_train.shape[1], 1)\n",
    "            X_test = X_test.reshape(X_test.shape[0], X_test.shape[1], 1)\n",
    "\n",
    "        # Train the model\n",
    "        model.fit(\n",
    "            X_train, y_train, class_weight=class_weights, epochs=epochs, verbose=0\n",
    "        )\n",
    "\n",
    "        # Create a model to extract feature maps from the pooling layer\n",
    "        feature_maps_model = Model(\n",
    "            model.input, model.get_layer(pooling_layer_name).output\n",
    "        )\n",
    "        # Predict feature maps for training and test data\n",
    "        X_train = feature_maps_model.predict(X_train)\n",
    "        X_test = feature_maps_model.predict(X_test)\n",
    "\n",
    "        if i == 1:\n",
    "            # Balance the training data\n",
    "            X_train, y_train = balance_data(X_train, y_train)\n",
    "\n",
    "        # Classify using Random Forest and Extremely Randomized Trees\n",
    "        probs_train, probs_test, y_pred, y_proba = DCF_classify(\n",
    "            X_train, X_test, y_train, y_test, class_weights\n",
    "        )\n",
    "\n",
    "        # Calculate accuracy\n",
    "        new_accuracy = metrics.accuracy_score(y_test, y_pred)\n",
    "        if new_accuracy > best_accuracy:\n",
    "            best_accuracy = new_accuracy\n",
    "            best_pred = y_pred\n",
    "            best_proba = y_proba\n",
    "            best_level = i\n",
    "            count = 0  # Reset counter if accuracy improves\n",
    "        else:\n",
    "            count += 1  # Increment counter if accuracy does not improve\n",
    "\n",
    "        if count >= 1:  # Early stopping criterion\n",
    "            break\n",
    "\n",
    "    end_time = time.time()\n",
    "    print(\"\\nRuntime of DCF = \", end_time - start_time)\n",
    "    print(\"\\nDCF's Final accuracy = \", best_accuracy, \" at level #\", best_level, \"\\n\")\n",
    "\n",
    "    # Calculate and plot classification metrics\n",
    "    evaluate_model(y_test, best_pred)\n",
    "    fpr, tpr, auc = roc(y_test, best_proba)\n",
    "\n",
    "    return fpr, tpr, auc"
   ]
  },
  {
   "cell_type": "markdown",
   "metadata": {
    "id": "wQ-Tt2sSTKX9"
   },
   "source": [
    "## Classification"
   ]
  },
  {
   "cell_type": "code",
   "execution_count": 338,
   "metadata": {
    "ExecuteTime": {
     "end_time": "2024-07-20T03:41:46.794272Z",
     "start_time": "2024-07-20T03:41:46.788298Z"
    },
    "id": "AmMNGlXSTPzj"
   },
   "outputs": [],
   "source": [
    "def DCF_classify(X_train, X_test, y_train, y_test, class_weights):\n",
    "    \"\"\"Build DCF's base classifiers (RandomForestClassifier and ExtraTreesClassifier)\"\"\"\n",
    "\n",
    "    classifier1 = RandomForestClassifier(\n",
    "        n_estimators=100, criterion=\"gini\", class_weight=class_weights, random_state=0\n",
    "    )\n",
    "    classifier2 = RandomForestClassifier(\n",
    "        n_estimators=100,\n",
    "        criterion=\"entropy\",\n",
    "        class_weight=class_weights,\n",
    "        random_state=0,\n",
    "    )\n",
    "    classifier3 = ExtraTreesClassifier(\n",
    "        n_estimators=100, criterion=\"gini\", class_weight=class_weights, random_state=0\n",
    "    )\n",
    "    classifier4 = ExtraTreesClassifier(\n",
    "        n_estimators=100,\n",
    "        criterion=\"entropy\",\n",
    "        class_weight=class_weights,\n",
    "        random_state=0,\n",
    "    )\n",
    "\n",
    "    # Classifier 1\n",
    "    classifier1.fit(X_train, y_train)\n",
    "    probs_train1 = classifier1.predict_proba(X_train)\n",
    "    probs_test1 = classifier1.predict_proba(X_test)\n",
    "\n",
    "    # Classifier 2\n",
    "    classifier2.fit(X_train, y_train)\n",
    "    probs_train2 = classifier2.predict_proba(X_train)\n",
    "    probs_test2 = classifier2.predict_proba(X_test)\n",
    "\n",
    "    # Classifier 3\n",
    "    classifier3.fit(X_train, y_train)\n",
    "    probs_train3 = classifier3.predict_proba(X_train)\n",
    "    probs_test3 = classifier3.predict_proba(X_test)\n",
    "\n",
    "    # Classifier 4\n",
    "    classifier4.fit(X_train, y_train)\n",
    "    probs_train4 = classifier4.predict_proba(X_train)\n",
    "    probs_test4 = classifier4.predict_proba(X_test)\n",
    "\n",
    "    probs_train = np.concatenate(\n",
    "        (probs_train1, probs_train2, probs_train3, probs_train4), axis=1\n",
    "    )\n",
    "    probs_test = np.concatenate(\n",
    "        (probs_test1, probs_test2, probs_test3, probs_test4), axis=1\n",
    "    )\n",
    "\n",
    "    y_pred = []\n",
    "    y_proba = []\n",
    "    for i in range(0, len(X_test)):\n",
    "        avg_ham = (\n",
    "            probs_test1[i][0]\n",
    "            + probs_test2[i][0]\n",
    "            + probs_test3[i][0]\n",
    "            + probs_test4[i][0]\n",
    "        ) / 4\n",
    "        avg_spam = (\n",
    "            probs_test1[i][1]\n",
    "            + probs_test2[i][1]\n",
    "            + probs_test3[i][1]\n",
    "            + probs_test4[i][1]\n",
    "        ) / 4\n",
    "        if avg_ham > avg_spam:\n",
    "            # ham\n",
    "            y_pred.append(0)\n",
    "        else:\n",
    "            # spam\n",
    "            y_pred.append(1)\n",
    "\n",
    "        max_spam = max(\n",
    "            [probs_test1[i][1], probs_test2[i][1], probs_test3[i][1], probs_test4[i][1]]\n",
    "        )\n",
    "        y_proba.append(max_spam)\n",
    "\n",
    "    return probs_train, probs_test, y_pred, y_proba"
   ]
  },
  {
   "cell_type": "markdown",
   "metadata": {
    "id": "CnBMQo52YLZR"
   },
   "source": [
    "## Evaluating"
   ]
  },
  {
   "cell_type": "code",
   "execution_count": 341,
   "metadata": {
    "ExecuteTime": {
     "end_time": "2024-07-20T03:41:47.193654Z",
     "start_time": "2024-07-20T03:41:47.189762Z"
    },
    "id": "PmuYQYYrYKuw"
   },
   "outputs": [],
   "source": [
    "def evaluate_model(y_test, y_pred):\n",
    "    \"\"\"Plot confusion matrix and print classification report\"\"\"\n",
    "\n",
    "    target_names = [\"Ham\", \"Spam\"]\n",
    "\n",
    "    # Plot normalized confusion matrix\n",
    "    plot_confusion_matrix(y_test, y_pred)\n",
    "\n",
    "    print(\n",
    "        metrics.classification_report(\n",
    "            y_test, y_pred, target_names=target_names, digits=4\n",
    "        )\n",
    "    )\n",
    "\n",
    "\n",
    "def plot_confusion_matrix(y_test, y_pred):\n",
    "    \"\"\"Calculate and print the confusion matrix\"\"\"\n",
    "\n",
    "    print(metrics.confusion_matrix(y_test, y_pred))\n",
    "\n",
    "\n",
    "def roc(y_test, y_proba):\n",
    "    \"\"\"Calculate ROC curve\"\"\"\n",
    "\n",
    "    fpr, tpr, _ = metrics.roc_curve(y_test, y_proba)\n",
    "    auc = metrics.roc_auc_score(y_test, y_proba)\n",
    "    return fpr, tpr, auc"
   ]
  },
  {
   "cell_type": "markdown",
   "metadata": {
    "id": "ZrV8mYRY-u_W"
   },
   "source": [
    "# ***Deep Learning Algorithms***"
   ]
  },
  {
   "cell_type": "markdown",
   "metadata": {
    "id": "tcrJkOdU-0SB"
   },
   "source": [
    "## CNN"
   ]
  },
  {
   "cell_type": "code",
   "execution_count": 345,
   "metadata": {
    "ExecuteTime": {
     "end_time": "2024-07-20T03:41:47.728237Z",
     "start_time": "2024-07-20T03:41:47.722952Z"
    },
    "id": "2ol-SOZ2_6Rf"
   },
   "outputs": [],
   "source": [
    "def cnn_model_v1(\n",
    "    X_train,\n",
    "    X_test,\n",
    "    y_train,\n",
    "    y_test,\n",
    "    params,\n",
    "    class_weights,\n",
    "    vocab_size,\n",
    "    max_sequence_length,\n",
    "    embedding_matrix,\n",
    "    embedding_dim,\n",
    "):\n",
    "    filters = params[\"filters\"]\n",
    "    kernel_size = params[\"kernel_size\"]\n",
    "    epochs = params[\"epochs\"]\n",
    "\n",
    "    start_time = time.time()\n",
    "\n",
    "    model = Sequential()\n",
    "    model.add(\n",
    "        Embedding(\n",
    "            vocab_size,\n",
    "            embedding_dim,\n",
    "            input_length=max_sequence_length,\n",
    "            weights=[embedding_matrix],\n",
    "            trainable=True,\n",
    "            mask_zero=True,\n",
    "        )\n",
    "    )\n",
    "    model.add(Conv1D(filters=filters, kernel_size=kernel_size, activation=\"relu\"))\n",
    "    model.add(GlobalMaxPooling1D())\n",
    "    model.add(Dense(2, activation=\"softmax\"))\n",
    "\n",
    "    model.compile(\n",
    "        loss=\"sparse_categorical_crossentropy\", optimizer=\"adam\", metrics=[\"accuracy\"]\n",
    "    )\n",
    "    model.fit(X_train, y_train, class_weight=class_weights, epochs=epochs, verbose=0)\n",
    "\n",
    "    model.evaluate(X_test, y_test)\n",
    "    y_pred = np.argmax(model.predict(X_test), axis=1)\n",
    "    y_proba = model.predict(X_test)[::, 1]\n",
    "\n",
    "    end_time = time.time()\n",
    "    print(\"\\nRuntime of 1-CNN = \", end_time - start_time)\n",
    "\n",
    "    print(\"Classification metrics of 1-layer CNN\")\n",
    "    print(metrics.classification_report(y_test, y_pred, digits=4))\n",
    "\n",
    "    fpr, tpr, auc = roc(y_test, y_proba)\n",
    "\n",
    "    return fpr, tpr, auc"
   ]
  },
  {
   "cell_type": "code",
   "execution_count": 347,
   "metadata": {
    "ExecuteTime": {
     "end_time": "2024-07-20T03:41:47.915780Z",
     "start_time": "2024-07-20T03:41:47.911006Z"
    },
    "id": "ijk2UTUTT4K0"
   },
   "outputs": [],
   "source": [
    "def cnn_model_v2(\n",
    "    X_train,\n",
    "    X_test,\n",
    "    y_train,\n",
    "    y_test,\n",
    "    params,\n",
    "    class_weights,\n",
    "    vocab_size,\n",
    "    max_sequence_length,\n",
    "    embedding_matrix,\n",
    "    embedding_dim,\n",
    "):\n",
    "    filters = params[\"filters\"]\n",
    "    kernel_size = params[\"kernel_size\"]\n",
    "    epochs = params[\"epochs\"]\n",
    "\n",
    "    start_time = time.time()\n",
    "\n",
    "    model = Sequential()\n",
    "    model.add(\n",
    "        Embedding(\n",
    "            vocab_size,\n",
    "            embedding_dim,\n",
    "            input_length=max_sequence_length,\n",
    "            weights=[embedding_matrix],\n",
    "            trainable=True,\n",
    "            mask_zero=True,\n",
    "        )\n",
    "    )\n",
    "    model.add(Conv1D(filters=filters, kernel_size=kernel_size, activation=\"relu\"))\n",
    "    model.add(Conv1D(filters=filters, kernel_size=kernel_size, activation=\"relu\"))\n",
    "    model.add(GlobalMaxPooling1D())\n",
    "    model.add(Dense(2, activation=\"softmax\"))\n",
    "\n",
    "    model.compile(\n",
    "        loss=\"sparse_categorical_crossentropy\", optimizer=\"adam\", metrics=[\"accuracy\"]\n",
    "    )\n",
    "    model.fit(X_train, y_train, class_weight=class_weights, epochs=epochs, verbose=0)\n",
    "\n",
    "    model.evaluate(X_test, y_test)\n",
    "    y_pred = np.argmax(model.predict(X_test), axis=1)\n",
    "    y_proba = model.predict(X_test)[::, 1]\n",
    "\n",
    "    end_time = time.time()\n",
    "    print(\"\\nRuntime of 2-CNN = \", end_time - start_time)\n",
    "\n",
    "    print(\"Classification metrics of 2-layer CNN\")\n",
    "    print(metrics.classification_report(y_test, y_pred, digits=4))\n",
    "\n",
    "    fpr, tpr, auc = roc(y_test, y_proba)\n",
    "\n",
    "    return fpr, tpr, auc"
   ]
  },
  {
   "cell_type": "code",
   "execution_count": 349,
   "metadata": {
    "ExecuteTime": {
     "end_time": "2024-07-20T03:41:48.085077Z",
     "start_time": "2024-07-20T03:41:48.080694Z"
    },
    "id": "CUXLERpTULH6"
   },
   "outputs": [],
   "source": [
    "def cnn_model_v3(\n",
    "    X_train,\n",
    "    X_test,\n",
    "    y_train,\n",
    "    y_test,\n",
    "    params,\n",
    "    class_weights,\n",
    "    vocab_size,\n",
    "    max_sequence_length,\n",
    "    embedding_matrix,\n",
    "    embedding_dim,\n",
    "):\n",
    "    filters = params[\"filters\"]\n",
    "    kernel_size = params[\"kernel_size\"]\n",
    "    epochs = params[\"epochs\"]\n",
    "\n",
    "    start_time = time.time()\n",
    "\n",
    "    model = Sequential()\n",
    "    model.add(\n",
    "        Embedding(\n",
    "            vocab_size,\n",
    "            embedding_dim,\n",
    "            input_length=max_sequence_length,\n",
    "            weights=[embedding_matrix],\n",
    "            trainable=True,\n",
    "            mask_zero=True,\n",
    "        )\n",
    "    )\n",
    "    model.add(Conv1D(filters=filters, kernel_size=kernel_size, activation=\"relu\"))\n",
    "    model.add(Conv1D(filters=filters, kernel_size=kernel_size, activation=\"relu\"))\n",
    "    model.add(Conv1D(filters=filters, kernel_size=kernel_size, activation=\"relu\"))\n",
    "    model.add(GlobalMaxPooling1D())\n",
    "    model.add(Dense(2, activation=\"softmax\"))\n",
    "\n",
    "    model.compile(\n",
    "        loss=\"sparse_categorical_crossentropy\", optimizer=\"adam\", metrics=[\"accuracy\"]\n",
    "    )\n",
    "    model.fit(X_train, y_train, class_weight=class_weights, epochs=epochs, verbose=0)\n",
    "\n",
    "    model.evaluate(X_test, y_test)\n",
    "    y_pred = np.argmax(model.predict(X_test), axis=1)\n",
    "    y_proba = model.predict(X_test)[::, 1]\n",
    "\n",
    "    end_time = time.time()\n",
    "    print(\"\\nRuntime of 3-CNN = \", end_time - start_time)\n",
    "\n",
    "    print(\"Classification metrics of 3-layer CNN\")\n",
    "    print(metrics.classification_report(y_test, y_pred, digits=4))\n",
    "\n",
    "    fpr, tpr, auc = roc(y_test, y_proba)\n",
    "\n",
    "    return fpr, tpr, auc"
   ]
  },
  {
   "cell_type": "markdown",
   "metadata": {
    "id": "GlFsPzej-2tL"
   },
   "source": [
    "## LSTM"
   ]
  },
  {
   "cell_type": "code",
   "execution_count": 352,
   "metadata": {
    "ExecuteTime": {
     "end_time": "2024-07-20T03:41:48.440433Z",
     "start_time": "2024-07-20T03:41:48.435445Z"
    },
    "id": "3Ewml9n_aK_C"
   },
   "outputs": [],
   "source": [
    "def lstm_model(\n",
    "    X_train,\n",
    "    X_test,\n",
    "    y_train,\n",
    "    y_test,\n",
    "    params,\n",
    "    class_weights,\n",
    "    vocab_size,\n",
    "    max_sequence_length,\n",
    "    embedding_matrix,\n",
    "    embedding_dim,\n",
    "):\n",
    "    units = params[\"units\"]\n",
    "    epochs = params[\"epochs\"]\n",
    "\n",
    "    start_time = time.time()\n",
    "\n",
    "    model = Sequential()\n",
    "    model.add(\n",
    "        Embedding(\n",
    "            vocab_size,\n",
    "            embedding_dim,\n",
    "            input_length=max_sequence_length,\n",
    "            weights=[embedding_matrix],\n",
    "            trainable=True,\n",
    "            mask_zero=True,\n",
    "        )\n",
    "    )\n",
    "    model.add(LSTM(units=units, activation=\"relu\"))\n",
    "    model.add(Dense(2, activation=\"softmax\"))\n",
    "\n",
    "    model.compile(\n",
    "        loss=\"sparse_categorical_crossentropy\", optimizer=\"adam\", metrics=[\"accuracy\"]\n",
    "    )\n",
    "    model.fit(X_train, y_train, class_weight=class_weights, epochs=epochs, verbose=0)\n",
    "\n",
    "    model.evaluate(X_test, y_test)\n",
    "    y_pred = np.argmax(model.predict(X_test), axis=1)\n",
    "    y_proba = model.predict(X_test)[::, 1]\n",
    "\n",
    "    end_time = time.time()\n",
    "    print(\"\\nRuntime of LSTM = \", end_time - start_time)\n",
    "\n",
    "    print(\"Classification metrics of LSTM\")\n",
    "    print(metrics.classification_report(y_test, y_pred, digits=4))\n",
    "\n",
    "    fpr, tpr, auc = roc(y_test, y_proba)\n",
    "\n",
    "    return fpr, tpr, auc"
   ]
  },
  {
   "cell_type": "markdown",
   "metadata": {
    "id": "ZVFGflCuPm4e"
   },
   "source": [
    "## All DL models (CNN, LSTM)"
   ]
  },
  {
   "cell_type": "code",
   "execution_count": 355,
   "metadata": {
    "ExecuteTime": {
     "end_time": "2024-07-20T03:41:48.794289Z",
     "start_time": "2024-07-20T03:41:48.790003Z"
    },
    "id": "RC54MkgfPVIU"
   },
   "outputs": [],
   "source": [
    "def DL_models(\n",
    "    DCF_fpr,\n",
    "    DCF_tpr,\n",
    "    DCF_auc,\n",
    "    X_train,\n",
    "    X_test,\n",
    "    y_train,\n",
    "    y_test,\n",
    "    params,\n",
    "    class_weights,\n",
    "    vocab_size,\n",
    "    max_sequence_length,\n",
    "    embedding_matrix,\n",
    "    embedding_dim,\n",
    "):\n",
    "    \"\"\"Compare DCF with deep learning techniques\"\"\"\n",
    "\n",
    "    result_table = pd.DataFrame(columns=[\"classifiers\", \"fpr\", \"tpr\", \"auc\"])\n",
    "\n",
    "    print(\"\\n*******************************1-CNN*******************************\\n\")\n",
    "    fpr, tpr, auc = cnn_model_v1(\n",
    "        X_train,\n",
    "        X_test,\n",
    "        y_train,\n",
    "        y_test,\n",
    "        params=params,\n",
    "        class_weights=class_weights,\n",
    "        vocab_size=vocab_size,\n",
    "        max_sequence_length=max_sequence_length,\n",
    "        embedding_matrix=embedding_matrix,\n",
    "        embedding_dim=embedding_dim,\n",
    "    )\n",
    "    result_table = pd.concat([\n",
    "        result_table,\n",
    "        pd.DataFrame({\"classifiers\": [\"1-CNN\"], \"fpr\": [fpr], \"tpr\": [tpr], \"auc\": [auc]})\n",
    "    ], ignore_index=True)\n",
    "\n",
    "    print(\"\\n*******************************2-CNN*******************************\\n\")\n",
    "    fpr, tpr, auc = cnn_model_v2(\n",
    "        X_train,\n",
    "        X_test,\n",
    "        y_train,\n",
    "        y_test,\n",
    "        params=params,\n",
    "        class_weights=class_weights,\n",
    "        vocab_size=vocab_size,\n",
    "        max_sequence_length=max_sequence_length,\n",
    "        embedding_matrix=embedding_matrix,\n",
    "        embedding_dim=embedding_dim,\n",
    "    )\n",
    "    result_table = pd.concat([\n",
    "        result_table,\n",
    "        pd.DataFrame({\"classifiers\": [\"2-CNN\"], \"fpr\": [fpr], \"tpr\": [tpr], \"auc\": [auc]})\n",
    "    ], ignore_index=True)\n",
    "\n",
    "    print(\"\\n*******************************3-CNN*******************************\\n\")\n",
    "    fpr, tpr, auc = cnn_model_v3(\n",
    "        X_train,\n",
    "        X_test,\n",
    "        y_train,\n",
    "        y_test,\n",
    "        params=params,\n",
    "        class_weights=class_weights,\n",
    "        vocab_size=vocab_size,\n",
    "        max_sequence_length=max_sequence_length,\n",
    "        embedding_matrix=embedding_matrix,\n",
    "        embedding_dim=embedding_dim,\n",
    "    )\n",
    "    result_table = pd.concat([\n",
    "        result_table,\n",
    "        pd.DataFrame({\"classifiers\": [\"3-CNN\"], \"fpr\": [fpr], \"tpr\": [tpr], \"auc\": [auc]})\n",
    "    ], ignore_index=True)\n",
    "\n",
    "    print(\"\\n*******************************LSTM*******************************\\n\")\n",
    "    fpr, tpr, auc = lstm_model(\n",
    "        X_train,\n",
    "        X_test,\n",
    "        y_train,\n",
    "        y_test,\n",
    "        params=params,\n",
    "        class_weights=class_weights,\n",
    "        vocab_size=vocab_size,\n",
    "        max_sequence_length=max_sequence_length,\n",
    "        embedding_matrix=embedding_matrix,\n",
    "        embedding_dim=embedding_dim,\n",
    "    )\n",
    "    result_table = pd.concat([\n",
    "        result_table,\n",
    "        pd.DataFrame({\"classifiers\": [\"LSTM\"], \"fpr\": [fpr], \"tpr\": [tpr], \"auc\": [auc]})\n",
    "    ], ignore_index=True)\n",
    "\n",
    "    # Adding DCF metrics to result_table\n",
    "    result_table = pd.concat([\n",
    "        result_table,\n",
    "        pd.DataFrame({\"classifiers\": [\"DCF\"], \"fpr\": [DCF_fpr], \"tpr\": [DCF_tpr], \"auc\": [DCF_auc]})\n",
    "    ], ignore_index=True)\n",
    "\n",
    "    # Set name of the classifiers as index labels\n",
    "    result_table.set_index(\"classifiers\", inplace=True)\n",
    "\n",
    "    # Plot multiple ROC-Curve\n",
    "    plot_ROC_all(\"ROC for DL models\", result_table)"
   ]
  },
  {
   "cell_type": "markdown",
   "metadata": {
    "id": "pMH1OCVOL9yj"
   },
   "source": [
    "# ***Machine Learning Algorithms***"
   ]
  },
  {
   "cell_type": "markdown",
   "metadata": {
    "id": "bw0cZKHocn0q"
   },
   "source": [
    "## All ML models (SVM, NB, KNN, RF)"
   ]
  },
  {
   "cell_type": "code",
   "execution_count": 359,
   "metadata": {
    "ExecuteTime": {
     "end_time": "2024-07-20T03:41:49.420760Z",
     "start_time": "2024-07-20T03:41:49.414892Z"
    },
    "id": "fetTCpEiMDRF"
   },
   "outputs": [],
   "source": [
    "def ML_models(\n",
    "    DCF_fpr,\n",
    "    DCF_tpr,\n",
    "    DCF_auc,\n",
    "    features_train,\n",
    "    features_test,\n",
    "    y_train,\n",
    "    y_test,\n",
    "    class_weights,\n",
    "):\n",
    "    \"\"\"Compare DCF with machine learning algorithms\"\"\"\n",
    "\n",
    "    classifiers = [\n",
    "        SVC(random_state=0, kernel=\"rbf\", probability=True),\n",
    "        GaussianNB(),\n",
    "        KNeighborsClassifier(),\n",
    "        RandomForestClassifier(\n",
    "            n_estimators=100, class_weight=class_weights, random_state=0\n",
    "        ),\n",
    "    ]\n",
    "\n",
    "    result_table = pd.DataFrame(columns=[\"classifiers\", \"fpr\", \"tpr\", \"auc\"])\n",
    "\n",
    "    # Train the models and record the results\n",
    "    i = 0\n",
    "    for cls in classifiers:\n",
    "        i += 1\n",
    "        classifier_name = \"SVM\"\n",
    "        if i == 2:\n",
    "            classifier_name = \"NB\"\n",
    "        elif i == 3:\n",
    "            classifier_name = \"KNN\"\n",
    "        elif i == 4:\n",
    "            classifier_name = \"RF\"\n",
    "\n",
    "        model = cls.fit(features_train, y_train)\n",
    "        y_pred = model.predict(features_test)\n",
    "        y_proba = model.predict_proba(features_test)[:, 1]\n",
    "\n",
    "        fpr, tpr, _ = metrics.roc_curve(y_test, y_proba)\n",
    "        auc = metrics.roc_auc_score(y_test, y_proba)\n",
    "\n",
    "        result_table = pd.concat([\n",
    "            result_table,\n",
    "            pd.DataFrame({\"classifiers\": [classifier_name], \"fpr\": [fpr], \"tpr\": [tpr], \"auc\": [auc]})\n",
    "        ], ignore_index=True)\n",
    "\n",
    "        print(\"Classification report of \", cls.__class__.__name__)\n",
    "        print(metrics.classification_report(y_test, y_pred, digits=4))\n",
    "\n",
    "    # Adding DCF metrics to result_table\n",
    "    result_table = pd.concat([\n",
    "        result_table,\n",
    "        pd.DataFrame({\"classifiers\": [\"DCF\"], \"fpr\": [DCF_fpr], \"tpr\": [DCF_tpr], \"auc\": [DCF_auc]})\n",
    "    ], ignore_index=True)\n",
    "\n",
    "    # Set name of the classifiers as index labels\n",
    "    result_table.set_index(\"classifiers\", inplace=True)\n",
    "\n",
    "    # Plot multiple ROC-Curve\n",
    "    plot_ROC_all(\"ROC for ML models\", result_table)"
   ]
  },
  {
   "cell_type": "markdown",
   "metadata": {
    "id": "8cjDN2CyYcD6"
   },
   "source": [
    "# ***Plot ROC for All Models***"
   ]
  },
  {
   "cell_type": "code",
   "execution_count": 362,
   "metadata": {
    "ExecuteTime": {
     "end_time": "2024-07-20T03:41:50.094895Z",
     "start_time": "2024-07-20T03:41:50.090279Z"
    },
    "id": "hCm7SazTYeyG"
   },
   "outputs": [],
   "source": [
    "def plot_ROC_all(plot_name, result_table):\n",
    "    \"\"\"Plot multiple ROC-Curve\"\"\"\n",
    "\n",
    "    fig = plt.figure(figsize=(8, 6))\n",
    "\n",
    "    for i in result_table.index:\n",
    "        plt.plot(\n",
    "            result_table.loc[i][\"fpr\"],\n",
    "            result_table.loc[i][\"tpr\"],\n",
    "            label=\"{}, AUC={:.3f}\".format(i, result_table.loc[i][\"auc\"]),\n",
    "        )\n",
    "\n",
    "    plt.plot([0, 1], [0, 1], color=\"orange\", linestyle=\"--\")\n",
    "\n",
    "    plt.xticks(np.arange(0.0, 1.1, step=0.1))\n",
    "    plt.xlabel(\"False Positive Rate\", fontsize=15)\n",
    "\n",
    "    plt.yticks(np.arange(0.0, 1.1, step=0.1))\n",
    "    plt.ylabel(\"True Positive Rate\", fontsize=15)\n",
    "\n",
    "    plt.legend(prop={\"size\": 13}, loc=\"lower right\")\n",
    "\n",
    "    plt.show()\n",
    "    # fig.savefig(\"/content/drive/My Drive/Shared DCF/Figures/\" + plot_name + \".pdf\")"
   ]
  },
  {
   "cell_type": "markdown",
   "metadata": {
    "id": "O6jAv8wKCvIh"
   },
   "source": [
    "# ***Main***"
   ]
  },
  {
   "cell_type": "code",
   "execution_count": 365,
   "metadata": {
    "ExecuteTime": {
     "end_time": "2024-07-20T03:41:58.515892Z",
     "start_time": "2024-07-20T03:41:50.692252Z"
    },
    "colab": {
     "base_uri": "https://localhost:8080/",
     "height": 1000
    },
    "id": "DHly-HoC5Gsl",
    "outputId": "27656f1c-de98-409d-c954-fdb99c566081"
   },
   "outputs": [
    {
     "name": "stdout",
     "output_type": "stream",
     "text": [
      "<class 'pandas.core.frame.DataFrame'>\n",
      "Index: 5563 entries, 0 to 5570\n",
      "Data columns (total 45 columns):\n",
      " #   Column                   Non-Null Count  Dtype  \n",
      "---  ------                   --------------  -----  \n",
      " 0   Label                    5563 non-null   int64  \n",
      " 1   Message                  5563 non-null   object \n",
      " 2   ProcessedMessage         5563 non-null   object \n",
      " 3   characters_count         5563 non-null   int64  \n",
      " 4   words_count              5563 non-null   int64  \n",
      " 5   readability              5563 non-null   float64\n",
      " 6   misspelled_count         5563 non-null   int64  \n",
      " 7   emails_count             5563 non-null   int64  \n",
      " 8   phones_count             5563 non-null   int64  \n",
      " 9   is_currency_found        5563 non-null   int64  \n",
      " 10  call                     5563 non-null   int64  \n",
      " 11  Ã¥Â£                     5563 non-null   int64  \n",
      " 12  free                     5563 non-null   int64  \n",
      " 13  txt                      5563 non-null   int64  \n",
      " 14  text                     5563 non-null   int64  \n",
      " 15  mobile                   5563 non-null   int64  \n",
      " 16  stop                     5563 non-null   int64  \n",
      " 17  claim                    5563 non-null   int64  \n",
      " 18  reply                    5563 non-null   int64  \n",
      " 19  prize                    5563 non-null   int64  \n",
      " 20  get                      5563 non-null   int64  \n",
      " 21  tone                     5563 non-null   int64  \n",
      " 22  service                  5563 non-null   int64  \n",
      " 23  p                        5563 non-null   int64  \n",
      " 24  nokia                    5563 non-null   int64  \n",
      " 25  new                      5563 non-null   int64  \n",
      " 26  send                     5563 non-null   int64  \n",
      " 27  urgent                   5563 non-null   int64  \n",
      " 28  win                      5563 non-null   int64  \n",
      " 29  week                     5563 non-null   int64  \n",
      " 30  ('Ã¥Â£', 'prize')        5563 non-null   int64  \n",
      " 31  ('please', 'call')       5563 non-null   int64  \n",
      " 32  ('Ã¥Â£', 'cash')         5563 non-null   int64  \n",
      " 33  ('po', 'box')            5563 non-null   int64  \n",
      " 34  ('customer', 'service')  5563 non-null   int64  \n",
      " 35  ('p', 'per')             5563 non-null   int64  \n",
      " 36  ('guaranteed', 'call')   5563 non-null   int64  \n",
      " 37  ('call', 'landline')     5563 non-null   int64  \n",
      " 38  ('prize', 'guaranteed')  5563 non-null   int64  \n",
      " 39  ('win', 'Ã¥Â£')          5563 non-null   int64  \n",
      " 40  ip_count                 5563 non-null   int64  \n",
      " 41  urls_count               5563 non-null   int64  \n",
      " 42  url                      102 non-null    object \n",
      " 43  broken_url_count         5563 non-null   int64  \n",
      " 44  has_blacklist_url        5563 non-null   int64  \n",
      "dtypes: float64(1), int64(41), object(3)\n",
      "memory usage: 2.0+ MB\n",
      "Found 400000 word vectors.\n",
      "\n",
      "*******************************Run DCF*******************************\n",
      "\n"
     ]
    },
    {
     "name": "stderr",
     "output_type": "stream",
     "text": [
      "/opt/anaconda3/lib/python3.11/site-packages/keras/src/layers/core/embedding.py:90: UserWarning: Argument `input_length` is deprecated. Just remove it.\n",
      "  warnings.warn(\n",
      "/opt/anaconda3/lib/python3.11/site-packages/keras/src/layers/layer.py:915: UserWarning: Layer 'conv1d_14' (of type Conv1D) was passed an input with a mask attached to it. However, this layer does not support masking and will therefore destroy the mask information. Downstream layers will not see the mask.\n",
      "  warnings.warn(\n"
     ]
    },
    {
     "name": "stdout",
     "output_type": "stream",
     "text": [
      "\u001b[1m140/140\u001b[0m \u001b[32m━━━━━━━━━━━━━━━━━━━━\u001b[0m\u001b[37m\u001b[0m \u001b[1m0s\u001b[0m 748us/step\n",
      "\u001b[1m35/35\u001b[0m \u001b[32m━━━━━━━━━━━━━━━━━━━━\u001b[0m\u001b[37m\u001b[0m \u001b[1m0s\u001b[0m 605us/step\n",
      "Before SMOTE:  Counter({0: 3883, 1: 567})\n",
      "After SMOTE:  Counter({0: 3883, 1: 3883})\n",
      "\u001b[1m243/243\u001b[0m \u001b[32m━━━━━━━━━━━━━━━━━━━━\u001b[0m\u001b[37m\u001b[0m \u001b[1m0s\u001b[0m 277us/step\n",
      "\u001b[1m35/35\u001b[0m \u001b[32m━━━━━━━━━━━━━━━━━━━━\u001b[0m\u001b[37m\u001b[0m \u001b[1m0s\u001b[0m 260us/step\n",
      "\n",
      "Runtime of DCF =  13.049690008163452\n",
      "\n",
      "DCF's Final accuracy =  0.9829290206648698  at level # 1 \n",
      "\n",
      "[[932   1]\n",
      " [ 18 162]]\n",
      "              precision    recall  f1-score   support\n",
      "\n",
      "         Ham     0.9811    0.9989    0.9899       933\n",
      "        Spam     0.9939    0.9000    0.9446       180\n",
      "\n",
      "    accuracy                         0.9829      1113\n",
      "   macro avg     0.9875    0.9495    0.9673      1113\n",
      "weighted avg     0.9831    0.9829    0.9826      1113\n",
      "\n",
      "\n",
      "**************************Run DL classifiers*************************\n",
      "\n",
      "Before SMOTE:  Counter({0: 3883, 1: 567})\n",
      "After SMOTE:  Counter({0: 3883, 1: 3883})\n",
      "Found 400000 word vectors.\n",
      "\n",
      "*******************************1-CNN*******************************\n",
      "\n"
     ]
    },
    {
     "name": "stderr",
     "output_type": "stream",
     "text": [
      "/opt/anaconda3/lib/python3.11/site-packages/keras/src/layers/core/embedding.py:90: UserWarning: Argument `input_length` is deprecated. Just remove it.\n",
      "  warnings.warn(\n",
      "/opt/anaconda3/lib/python3.11/site-packages/keras/src/layers/layer.py:915: UserWarning: Layer 'conv1d_16' (of type Conv1D) was passed an input with a mask attached to it. However, this layer does not support masking and will therefore destroy the mask information. Downstream layers will not see the mask.\n",
      "  warnings.warn(\n"
     ]
    },
    {
     "name": "stdout",
     "output_type": "stream",
     "text": [
      "\u001b[1m35/35\u001b[0m \u001b[32m━━━━━━━━━━━━━━━━━━━━\u001b[0m\u001b[37m\u001b[0m \u001b[1m0s\u001b[0m 634us/step - accuracy: 0.9758 - loss: 0.0944\n",
      "\u001b[1m35/35\u001b[0m \u001b[32m━━━━━━━━━━━━━━━━━━━━\u001b[0m\u001b[37m\u001b[0m \u001b[1m0s\u001b[0m 902us/step\n",
      "\u001b[1m35/35\u001b[0m \u001b[32m━━━━━━━━━━━━━━━━━━━━\u001b[0m\u001b[37m\u001b[0m \u001b[1m0s\u001b[0m 510us/step\n",
      "\n",
      "Runtime of 1-CNN =  6.245551109313965\n",
      "Classification metrics of 1-layer CNN\n",
      "              precision    recall  f1-score   support\n",
      "\n",
      "           0     0.9819    0.9904    0.9861       933\n",
      "           1     0.9477    0.9056    0.9261       180\n",
      "\n",
      "    accuracy                         0.9766      1113\n",
      "   macro avg     0.9648    0.9480    0.9561      1113\n",
      "weighted avg     0.9764    0.9766    0.9764      1113\n",
      "\n",
      "\n",
      "*******************************2-CNN*******************************\n",
      "\n"
     ]
    },
    {
     "name": "stderr",
     "output_type": "stream",
     "text": [
      "/var/folders/d8/bs5pcrtd7z12znzzks9xsrc40000gn/T/ipykernel_64000/3288436683.py:33: FutureWarning: The behavior of DataFrame concatenation with empty or all-NA entries is deprecated. In a future version, this will no longer exclude empty or all-NA columns when determining the result dtypes. To retain the old behavior, exclude the relevant entries before the concat operation.\n",
      "  result_table = pd.concat([\n",
      "/opt/anaconda3/lib/python3.11/site-packages/keras/src/layers/core/embedding.py:90: UserWarning: Argument `input_length` is deprecated. Just remove it.\n",
      "  warnings.warn(\n",
      "/opt/anaconda3/lib/python3.11/site-packages/keras/src/layers/layer.py:915: UserWarning: Layer 'conv1d_17' (of type Conv1D) was passed an input with a mask attached to it. However, this layer does not support masking and will therefore destroy the mask information. Downstream layers will not see the mask.\n",
      "  warnings.warn(\n"
     ]
    },
    {
     "name": "stdout",
     "output_type": "stream",
     "text": [
      "\u001b[1m35/35\u001b[0m \u001b[32m━━━━━━━━━━━━━━━━━━━━\u001b[0m\u001b[37m\u001b[0m \u001b[1m0s\u001b[0m 726us/step - accuracy: 0.9738 - loss: 0.0996\n",
      "\u001b[1m35/35\u001b[0m \u001b[32m━━━━━━━━━━━━━━━━━━━━\u001b[0m\u001b[37m\u001b[0m \u001b[1m0s\u001b[0m 1ms/step \n",
      "\u001b[1m35/35\u001b[0m \u001b[32m━━━━━━━━━━━━━━━━━━━━\u001b[0m\u001b[37m\u001b[0m \u001b[1m0s\u001b[0m 694us/step\n",
      "\n",
      "Runtime of 2-CNN =  7.839245796203613\n",
      "Classification metrics of 2-layer CNN\n",
      "              precision    recall  f1-score   support\n",
      "\n",
      "           0     0.9850    0.9861    0.9855       933\n",
      "           1     0.9274    0.9222    0.9248       180\n",
      "\n",
      "    accuracy                         0.9757      1113\n",
      "   macro avg     0.9562    0.9541    0.9552      1113\n",
      "weighted avg     0.9757    0.9757    0.9757      1113\n",
      "\n",
      "\n",
      "*******************************3-CNN*******************************\n",
      "\n"
     ]
    },
    {
     "name": "stderr",
     "output_type": "stream",
     "text": [
      "/opt/anaconda3/lib/python3.11/site-packages/keras/src/layers/core/embedding.py:90: UserWarning: Argument `input_length` is deprecated. Just remove it.\n",
      "  warnings.warn(\n",
      "/opt/anaconda3/lib/python3.11/site-packages/keras/src/layers/layer.py:915: UserWarning: Layer 'conv1d_19' (of type Conv1D) was passed an input with a mask attached to it. However, this layer does not support masking and will therefore destroy the mask information. Downstream layers will not see the mask.\n",
      "  warnings.warn(\n"
     ]
    },
    {
     "name": "stdout",
     "output_type": "stream",
     "text": [
      "\u001b[1m35/35\u001b[0m \u001b[32m━━━━━━━━━━━━━━━━━━━━\u001b[0m\u001b[37m\u001b[0m \u001b[1m0s\u001b[0m 933us/step - accuracy: 0.9650 - loss: 0.1362\n",
      "\u001b[1m35/35\u001b[0m \u001b[32m━━━━━━━━━━━━━━━━━━━━\u001b[0m\u001b[37m\u001b[0m \u001b[1m0s\u001b[0m 2ms/step\n",
      "\u001b[1m35/35\u001b[0m \u001b[32m━━━━━━━━━━━━━━━━━━━━\u001b[0m\u001b[37m\u001b[0m \u001b[1m0s\u001b[0m 861us/step\n",
      "\n",
      "Runtime of 3-CNN =  9.506246089935303\n",
      "Classification metrics of 3-layer CNN\n",
      "              precision    recall  f1-score   support\n",
      "\n",
      "           0     0.9797    0.9829    0.9813       933\n",
      "           1     0.9096    0.8944    0.9020       180\n",
      "\n",
      "    accuracy                         0.9686      1113\n",
      "   macro avg     0.9447    0.9386    0.9416      1113\n",
      "weighted avg     0.9684    0.9686    0.9684      1113\n",
      "\n",
      "\n",
      "*******************************LSTM*******************************\n",
      "\n"
     ]
    },
    {
     "name": "stderr",
     "output_type": "stream",
     "text": [
      "/opt/anaconda3/lib/python3.11/site-packages/keras/src/layers/core/embedding.py:90: UserWarning: Argument `input_length` is deprecated. Just remove it.\n",
      "  warnings.warn(\n"
     ]
    },
    {
     "name": "stdout",
     "output_type": "stream",
     "text": [
      "\u001b[1m35/35\u001b[0m \u001b[32m━━━━━━━━━━━━━━━━━━━━\u001b[0m\u001b[37m\u001b[0m \u001b[1m0s\u001b[0m 4ms/step - accuracy: 0.9759 - loss: 0.5576\n",
      "\u001b[1m35/35\u001b[0m \u001b[32m━━━━━━━━━━━━━━━━━━━━\u001b[0m\u001b[37m\u001b[0m \u001b[1m0s\u001b[0m 6ms/step\n",
      "\u001b[1m35/35\u001b[0m \u001b[32m━━━━━━━━━━━━━━━━━━━━\u001b[0m\u001b[37m\u001b[0m \u001b[1m0s\u001b[0m 4ms/step\n",
      "\n",
      "Runtime of LSTM =  40.92472791671753\n",
      "Classification metrics of LSTM\n",
      "              precision    recall  f1-score   support\n",
      "\n",
      "           0     0.9799    0.9904    0.9851       933\n",
      "           1     0.9471    0.8944    0.9200       180\n",
      "\n",
      "    accuracy                         0.9748      1113\n",
      "   macro avg     0.9635    0.9424    0.9525      1113\n",
      "weighted avg     0.9745    0.9748    0.9746      1113\n",
      "\n"
     ]
    },
    {
     "data": {
      "image/png": "[encoded data removed]",
      "text/plain": [
       "<Figure size 800x600 with 1 Axes>"
      ]
     },
     "metadata": {},
     "output_type": "display_data"
    },
    {
     "name": "stdout",
     "output_type": "stream",
     "text": [
      "\n",
      "**************************Run ML classifiers*************************\n",
      "\n",
      "Before SMOTE:  Counter({0: 3883, 1: 567})\n",
      "After SMOTE:  Counter({0: 3883, 1: 3883})\n"
     ]
    },
    {
     "name": "stderr",
     "output_type": "stream",
     "text": [
      "/var/folders/d8/bs5pcrtd7z12znzzks9xsrc40000gn/T/ipykernel_64000/529042000.py:43: FutureWarning: The behavior of DataFrame concatenation with empty or all-NA entries is deprecated. In a future version, this will no longer exclude empty or all-NA columns when determining the result dtypes. To retain the old behavior, exclude the relevant entries before the concat operation.\n",
      "  result_table = pd.concat([\n"
     ]
    },
    {
     "name": "stdout",
     "output_type": "stream",
     "text": [
      "Classification report of  SVC\n",
      "              precision    recall  f1-score   support\n",
      "\n",
      "           0     0.9788    0.8424    0.9055       933\n",
      "           1     0.5258    0.9056    0.6653       180\n",
      "\n",
      "    accuracy                         0.8527      1113\n",
      "   macro avg     0.7523    0.8740    0.7854      1113\n",
      "weighted avg     0.9056    0.8527    0.8667      1113\n",
      "\n",
      "Classification report of  GaussianNB\n",
      "              precision    recall  f1-score   support\n",
      "\n",
      "           0     0.9611    0.9796    0.9703       933\n",
      "           1     0.8827    0.7944    0.8363       180\n",
      "\n",
      "    accuracy                         0.9497      1113\n",
      "   macro avg     0.9219    0.8870    0.9033      1113\n",
      "weighted avg     0.9484    0.9497    0.9486      1113\n",
      "\n",
      "Classification report of  KNeighborsClassifier\n",
      "              precision    recall  f1-score   support\n",
      "\n",
      "           0     0.9614    0.9078    0.9338       933\n",
      "           1     0.6293    0.8111    0.7087       180\n",
      "\n",
      "    accuracy                         0.8922      1113\n",
      "   macro avg     0.7954    0.8595    0.8213      1113\n",
      "weighted avg     0.9077    0.8922    0.8974      1113\n",
      "\n",
      "Classification report of  RandomForestClassifier\n",
      "              precision    recall  f1-score   support\n",
      "\n",
      "           0     0.9725    0.9475    0.9598       933\n",
      "           1     0.7598    0.8611    0.8073       180\n",
      "\n",
      "    accuracy                         0.9335      1113\n",
      "   macro avg     0.8662    0.9043    0.8836      1113\n",
      "weighted avg     0.9381    0.9335    0.9352      1113\n",
      "\n"
     ]
    },
    {
     "data": {
      "image/png": "[encoded data removed]",
      "text/plain": [
       "<Figure size 800x600 with 1 Axes>"
      ]
     },
     "metadata": {},
     "output_type": "display_data"
    }
   ],
   "source": [
    "df = load_data(\"processed_spam.csv\")\n",
    "\n",
    "data = df.drop([\"Label\"], axis=1)\n",
    "targets = df[\"Label\"]\n",
    "\n",
    "# Split data\n",
    "X_train, X_test, y_train, y_test = train_test_split(\n",
    "    data, targets, test_size=0.20, random_state=0\n",
    ")\n",
    "\n",
    "docs_X_train = X_train[\"ProcessedMessage\"]\n",
    "docs_X_test = X_test[\"ProcessedMessage\"]\n",
    "max_sequence_length = get_max_input_length(docs_X_train)\n",
    "padded_docs_train, padded_docs_test, tokenizer = encode_text(docs_X_train, docs_X_test)\n",
    "vocab_size = len(tokenizer.word_index) + 1\n",
    "embedding_dim = 100\n",
    "# Retrieve GloVe word embeddings\n",
    "embedding_matrix = create_embedding_matrix(tokenizer, embedding_dim)\n",
    "\n",
    "params = {\"filters\": 64, \"kernel_size\": 2, \"units\": 64, \"epochs\": 10}\n",
    "\n",
    "class_weights = None\n",
    "\n",
    "print(\"\\n*******************************Run DCF*******************************\\n\")\n",
    "DCF_fpr, DCF_tpr, DCF_auc = DCF_model(\n",
    "    padded_docs_train,\n",
    "    padded_docs_test,\n",
    "    y_train,\n",
    "    y_test,\n",
    "    params=params,\n",
    "    class_weights=class_weights,\n",
    "    vocab_size=vocab_size,\n",
    "    max_sequence_length=max_sequence_length,\n",
    "    embedding_matrix=embedding_matrix,\n",
    "    embedding_dim=embedding_dim,\n",
    ")\n",
    "\n",
    "print(\"\\n**************************Run DL classifiers*************************\\n\")\n",
    "docs_X_train = X_train[\"ProcessedMessage\"]\n",
    "docs_X_test = X_test[\"ProcessedMessage\"]\n",
    "docs_X_train, docs_y_train = balance_data(docs_X_train, y_train, input_type=\"text\")\n",
    "\n",
    "max_sequence_length = get_max_input_length(docs_X_train)\n",
    "padded_docs_train, padded_docs_test, tokenizer = encode_text(docs_X_train, docs_X_test)\n",
    "vocab_size = len(tokenizer.word_index) + 1\n",
    "embedding_dim = 100\n",
    "# Retrieve GloVe word embeddings\n",
    "embedding_matrix = create_embedding_matrix(tokenizer, embedding_dim)\n",
    "\n",
    "DL_models(\n",
    "    DCF_fpr,\n",
    "    DCF_tpr,\n",
    "    DCF_auc,\n",
    "    padded_docs_train,\n",
    "    padded_docs_test,\n",
    "    docs_y_train,\n",
    "    y_test,\n",
    "    params=params,\n",
    "    class_weights=class_weights,\n",
    "    vocab_size=vocab_size,\n",
    "    max_sequence_length=max_sequence_length,\n",
    "    embedding_matrix=embedding_matrix,\n",
    "    embedding_dim=embedding_dim,\n",
    ")\n",
    "\n",
    "print(\"\\n**************************Run ML classifiers*************************\\n\")\n",
    "feature_names = [\n",
    "    \"characters_count\",\n",
    "    \"words_count\",\n",
    "    \"readability\",\n",
    "    \"misspelled_count\",\n",
    "    \"emails_count\",\n",
    "    \"phones_count\",\n",
    "    \"is_currency_found\",\n",
    "    \"ip_count\",\n",
    "    \"urls_count\",\n",
    "    \"has_blacklist_url\",\n",
    "]\n",
    "features_train = X_train[feature_names]\n",
    "features_test = X_test[feature_names]\n",
    "\n",
    "features_train, y_train = balance_data(features_train, y_train)\n",
    "\n",
    "ML_models(\n",
    "    DCF_fpr,\n",
    "    DCF_tpr,\n",
    "    DCF_auc,\n",
    "    features_train,\n",
    "    features_test,\n",
    "    y_train,\n",
    "    y_test,\n",
    "    class_weights=class_weights,\n",
    ")"
   ]
  },
  {
   "cell_type": "code",
   "execution_count": null,
   "metadata": {},
   "outputs": [],
   "source": []
  },
  {
   "cell_type": "code",
   "execution_count": null,
   "metadata": {},
   "outputs": [],
   "source": []
  }
 ],
 "metadata": {
  "colab": {
   "collapsed_sections": [],
   "include_colab_link": true,
   "name": "enhannced_dcf.ipynb",
   "provenance": [],
   "toc_visible": true
  },
  "kernelspec": {
   "display_name": "Python 3 (ipykernel)",
   "language": "python",
   "name": "python3"
  },
  "language_info": {
   "codemirror_mode": {
    "name": "ipython",
    "version": 3
   },
   "file_extension": ".py",
   "mimetype": "text/x-python",
   "name": "python",
   "nbconvert_exporter": "python",
   "pygments_lexer": "ipython3",
   "version": "3.11.9"
  }
 },
 "nbformat": 4,
 "nbformat_minor": 4
}
